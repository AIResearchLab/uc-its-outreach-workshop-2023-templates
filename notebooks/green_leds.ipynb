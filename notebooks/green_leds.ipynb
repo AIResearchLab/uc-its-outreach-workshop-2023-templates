{
 "cells": [
  {
   "cell_type": "markdown",
   "id": "124fa4c9-c33b-4a1a-bdde-0b42b5bc7eb7",
   "metadata": {
    "tags": []
   },
   "source": [
    "#### Set the Rover LEDs Green\n",
    "\n",
    "---\n",
    "\n",
    "An example of how to use an IoT messaging protocol to communicate with a remote autonomous agent\n",
    "\n",
    "### instructions\n",
    "\n",
    "Run each cell of code in order to test the messaging system and make the rover LEDs green!"
   ]
  },
  {
   "cell_type": "code",
   "execution_count": null,
   "id": "b9d0f570-c98a-47fe-9294-db7468895ee7",
   "metadata": {},
   "outputs": [],
   "source": [
    "# import python libraries\n",
    "import paho.mqtt.client as mqtt\n",
    "import time"
   ]
  },
  {
   "cell_type": "code",
   "execution_count": null,
   "id": "c52226be-1f59-4cf1-8163-254c3423e681",
   "metadata": {},
   "outputs": [],
   "source": [
    "# DECLARE GLOBAL VARIABLES\n",
    "# messaging system connection details\n",
    "BROKER_HOSTNAME = \"localhost\"\n",
    "BROKER_HOSTNAME = \"robotics14.lan.robolab\"\n",
    "\n",
    "# messaging topics\n",
    "SPEED_TOPIC = \"spheroRVR/speed\"\n",
    "LED_BLINK_TOPIC = \"spheroRVR/led/blink\"\n",
    "LED_GREEN_TOPIC = \"spheroRVR/led/green\"\n"
   ]
  },
  {
   "cell_type": "code",
   "execution_count": null,
   "id": "8eaf9458-e2e3-4f57-8ba2-264ee42fbfe1",
   "metadata": {},
   "outputs": [],
   "source": [
    "# setup the messaging service minimal functions\n",
    "def on_connect(client, userdata, flags, rc):\n",
    "    if rc == 0:\n",
    "        print(\"Connected to broker\")\n",
    "\n",
    "        global Connected  # Use global variable\n",
    "        Connected = True  # Signal connection\n",
    "\n",
    "    else:\n",
    "        print(rc)\n",
    "        print(\"Connection failed\")"
   ]
  },
  {
   "cell_type": "code",
   "execution_count": null,
   "id": "accac972-efc0-474a-bedd-0072a0834cb0",
   "metadata": {},
   "outputs": [],
   "source": [
    "# Set up the MQTT messaging service client\n",
    "client = mqtt.Client(\"remote\")\n",
    "client.on_connect = on_connect\n",
    "client.on_message = on_message"
   ]
  },
  {
   "cell_type": "code",
   "execution_count": null,
   "id": "51a3d8d6-88cc-4dc7-8934-50ceca45d1e3",
   "metadata": {},
   "outputs": [],
   "source": [
    "# Connect to the MQTT broker\n",
    "client.connect(BROKER_HOSTNAME, 1883)\n",
    "client.loop_start()  # start the loop"
   ]
  },
  {
   "cell_type": "code",
   "execution_count": null,
   "id": "d0646813-877c-47a6-a876-57dfa26cb986",
   "metadata": {},
   "outputs": [],
   "source": [
    "# send a message to the robot to start the green led action\n",
    "time.sleep(1)\n",
    "client.publish(LED_GREEN_TOPIC, \"1\")\n",
    "time.sleep(8) # wait a little while to finish"
   ]
  },
  {
   "cell_type": "code",
   "execution_count": null,
   "id": "f5516278-2da4-4df5-96ee-08350eacecbc",
   "metadata": {},
   "outputs": [],
   "source": [
    "# disconnect from the messaging service\n",
    "print(\"exiting\")\n",
    "client.disconnect()\n",
    "client.loop_stop()"
   ]
  }
 ],
 "metadata": {
  "kernelspec": {
   "display_name": "Python 3 (ipykernel)",
   "language": "python",
   "name": "python3"
  },
  "language_info": {
   "codemirror_mode": {
    "name": "ipython",
    "version": 3
   },
   "file_extension": ".py",
   "mimetype": "text/x-python",
   "name": "python",
   "nbconvert_exporter": "python",
   "pygments_lexer": "ipython3",
   "version": "3.10.9"
  }
 },
 "nbformat": 4,
 "nbformat_minor": 5
}
