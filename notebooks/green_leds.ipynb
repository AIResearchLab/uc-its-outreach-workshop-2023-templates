{
 "cells": [
  {
   "attachments": {},
   "cell_type": "markdown",
   "id": "124fa4c9-c33b-4a1a-bdde-0b42b5bc7eb7",
   "metadata": {
    "tags": []
   },
   "source": [
    "# Set the Rover headlight LEDs Green\n",
    "\n",
    "---\n",
    "\n",
    "This notebook provides a code example of how to use an IoT messaging protocol to communicate with a remote autonomous agent by telling it to make its headlights green!\n",
    "An example of how to use an IoT messaging protocol to communicate with a remote autonomous agent\n",
    "\n",
    "## Instructions\n",
    "\n",
    "To test this code example and make the rover LEDs green! follow these steps:\n",
    "\n",
    "1. Click on the first code cell\n",
    "1. press the play button to run the cell\n",
    "1. Run each cell of code in order until the end\n",
    "1. You can run the last cell many times\n",
    "1. You can read along with the code by reading the comments an example of comments is in the next cell"
   ]
  },
  {
   "cell_type": "code",
   "execution_count": null,
   "id": "a2fc4401",
   "metadata": {},
   "outputs": [],
   "source": [
    "\"\"\" This is a comment \"\"\"\n",
    "\n",
    "''' This is a comment '''\n",
    "\n",
    "# this is a comment"
   ]
  },
  {
   "attachments": {},
   "cell_type": "markdown",
   "id": "00e7d81e",
   "metadata": {},
   "source": [
    "### Setting Things Up\n",
    "\n",
    "---\n",
    "\n",
    "To use the IoT messaging service (message queuing telemetry transport - MQTT) in our program, we need to set some things up.\n",
    "\n",
    "- Run the following code cells to set everything up."
   ]
  },
  {
   "cell_type": "code",
   "execution_count": null,
   "id": "0402dc4c",
   "metadata": {},
   "outputs": [],
   "source": [
    "''' this cell installs some libraries to help with the rest of the code '''\n",
    "\n",
    "# install some important python libraries\n",
    "%pip install -r requirements.txt"
   ]
  },
  {
   "cell_type": "code",
   "execution_count": null,
   "id": "b9d0f570-c98a-47fe-9294-db7468895ee7",
   "metadata": {},
   "outputs": [],
   "source": [
    "''' this code cell imports the libraries we installed to the current program '''\n",
    "\n",
    "# import python libraries\n",
    "import paho.mqtt.client as mqtt\n",
    "import time"
   ]
  },
  {
   "cell_type": "code",
   "execution_count": null,
   "id": "c52226be-1f59-4cf1-8163-254c3423e681",
   "metadata": {},
   "outputs": [],
   "source": [
    "### DECLARE GLOBAL VARIABLES ###\n",
    "# messaging system connection details\n",
    "BROKER_HOSTNAME = \"localhost\"\n",
    "BROKER_HOSTNAME = \"192.168.1.114\"\n",
    "\n",
    "# messaging topics\n",
    "SPEED_TOPIC = \"spheroRVR/speed\"\n",
    "LED_BLINK_TOPIC = \"spheroRVR/led/blink\"\n",
    "LED_GREEN_TOPIC = \"spheroRVR/led/green\""
   ]
  },
  {
   "cell_type": "code",
   "execution_count": null,
   "id": "8eaf9458-e2e3-4f57-8ba2-264ee42fbfe1",
   "metadata": {},
   "outputs": [],
   "source": [
    "# setup the messaging service minimal functions\n",
    "def on_connect(client, userdata, flags, rc):\n",
    "    if rc == 0:\n",
    "        print(\"Connected to broker\")\n",
    "\n",
    "        global Connected  # Use global variable\n",
    "        Connected = True  # Signal connection\n",
    "\n",
    "    else:\n",
    "        print(rc)\n",
    "        print(\"Connection failed\")"
   ]
  },
  {
   "cell_type": "code",
   "execution_count": null,
   "id": "41d75652",
   "metadata": {},
   "outputs": [],
   "source": [
    "# Set up the MQTT messaging service client\n",
    "client = mqtt.Client(\"remote\")\n",
    "client.on_connect = on_connect"
   ]
  },
  {
   "attachments": {},
   "cell_type": "markdown",
   "id": "de23fcd8",
   "metadata": {},
   "source": [
    "### The Main Green LED example code\n",
    "\n",
    "---\n",
    "\n",
    "Now that the program has been set up we can run the main part. This part:\n",
    "\n",
    "1. connects to the IoT messaging system\n",
    "1. sends a message to the rover\n",
    "1. and disconnects after it has finished\n",
    "\n",
    "If the program worked then your rover should have gone green!\n",
    "\n",
    "**You can run the following cell many times**\n"
   ]
  },
  {
   "cell_type": "code",
   "execution_count": null,
   "id": "51a3d8d6-88cc-4dc7-8934-50ceca45d1e3",
   "metadata": {},
   "outputs": [],
   "source": [
    "# Connect to the MQTT broker\n",
    "client.connect(BROKER_HOSTNAME, 1883)\n",
    "client.loop_start()  # start the loop\n",
    "\n",
    "# send a message to the robot to start the green led action\n",
    "time.sleep(1)\n",
    "client.publish(LED_GREEN_TOPIC, \"1\")\n",
    "time.sleep(8) # wait a little while to finish\n",
    "\n",
    "# disconnect from the messaging service\n",
    "print(\"exiting\")\n",
    "client.disconnect()\n",
    "client.loop_stop()"
   ]
  },
  {
   "cell_type": "code",
   "execution_count": null,
   "id": "00ca2dcc",
   "metadata": {},
   "outputs": [],
   "source": [
    "\"\"\" this cell is the end of the notebook, you do not have to run this cell \"\"\""
   ]
  }
 ],
 "metadata": {
  "kernelspec": {
   "display_name": "Python 3",
   "language": "python",
   "name": "python3"
  },
  "language_info": {
   "codemirror_mode": {
    "name": "ipython",
    "version": 3
   },
   "file_extension": ".py",
   "mimetype": "text/x-python",
   "name": "python",
   "nbconvert_exporter": "python",
   "pygments_lexer": "ipython3",
   "version": "3.8.10"
  },
  "vscode": {
   "interpreter": {
    "hash": "916dbcbb3f70747c44a77c7bcd40155683ae19c65e1c03b4aa3499c5328201f1"
   }
  }
 },
 "nbformat": 4,
 "nbformat_minor": 5
}
