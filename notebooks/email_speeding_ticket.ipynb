{
 "cells": [
  {
   "cell_type": "markdown",
   "id": "b92a8140-400d-4351-99a7-5c57473a7671",
   "metadata": {},
   "source": [
    "#### Automated Speeding Infringement Notice\n",
    "\n",
    "----\n",
    "\n",
    "In real world scenarios where companies are providing managed fleets, sometimes the company collects metrics for safety and insurance - such as speed monitoring\n",
    "\n",
    "### instructions\n"
   ]
  },
  {
   "cell_type": "code",
   "execution_count": null,
   "id": "ebc79c34",
   "metadata": {},
   "outputs": [],
   "source": [
    "# import python libraries\n",
    "import smtplib\n",
    "import ssl\n",
    "import paho.mqtt.client as mqtt\n",
    "import time"
   ]
  },
  {
   "cell_type": "code",
   "execution_count": null,
   "id": "091f2e82",
   "metadata": {},
   "outputs": [],
   "source": [
    "# GLOBALS\n",
    "BROKER_HOSTNAME = \"localhost\"\n",
    "BROKER_HOSTNAME = \"robotics14.lan.robolab\"\n",
    "BROKER_HOSTNAME = \"192.168.1.114\"\n",
    "SPEED_TOPIC = \"spheroRVR/speed\"\n",
    "LED_BLINK_TOPIC = \"spheroRVR/led/blink\"\n",
    "LED_GREEN_TOPIC = \"spheroRVR/led/green\"\n",
    "MAXIMUM_SPEED_LIMIT = 0.4"
   ]
  },
  {
   "cell_type": "code",
   "execution_count": null,
   "id": "6d7e11b6",
   "metadata": {},
   "outputs": [],
   "source": [
    "# set up minimal messaging service functions\n",
    "def on_connect(client, userdata, flags, rc):\n",
    "    if rc == 0:\n",
    "        print(\"Connected to broker\")\n",
    "\n",
    "        global Connected  # Use global variable\n",
    "        Connected = True  # Signal connection\n",
    "\n",
    "    else:\n",
    "        print(rc)\n",
    "        print(\"Connection failed\")\n",
    "        \n",
    "\n",
    "def on_message(client, userdata, message):\n",
    "    print(\"speed message received! -> \" + str(float(message.payload)))\n",
    "\n",
    "    speed = float(message.payload)\n",
    "\n",
    "    # check for speeding\n",
    "    if speed > MAXIMUM_SPEED_LIMIT:\n",
    "        print(\"SPEEDING DETECTED!\")\n",
    "        print(\"SENDING EMAIL INFRINGMENT NOTICE!\")\n",
    "        # send_email()\n",
    "\n"
   ]
  },
  {
   "cell_type": "code",
   "execution_count": null,
   "id": "68828dc4",
   "metadata": {},
   "outputs": [],
   "source": [
    "# the email function\n",
    "def send_email():\n",
    "    # Set up your Gmail account details\n",
    "    sender_email = 'engrehsanamiri@gmail.com'\n",
    "    receiver_email = 'engrehsanamiri@gmail.com'\n",
    "    password = 'jlaezogdlhjnllwu'\n",
    "    subject = 'Test email'\n",
    "    body = 'This is a test email sent from Python.'\n",
    "    msg = f'Subject: {subject}\\n\\n{body}'\n",
    "\n",
    "    # Set up the email message\n",
    "    message = \"\"\"\\\n",
    "    Subject: Test email from Python\n",
    "\n",
    "    This is a test email sent from Python.\"\"\"\n",
    "\n",
    "    # Create a secure SSL context\n",
    "    context = ssl.create_default_context()\n",
    "\n",
    "    try:\n",
    "        # Log in to your Gmail account and create a secure connection\n",
    "        with smtplib.SMTP_SSL('smtp.gmail.com', 465, context=context) as server:\n",
    "            server.login(sender_email, password)\n",
    "\n",
    "            # Send the email message\n",
    "            server.sendmail(sender_email, receiver_email, msg)\n",
    "\n",
    "        print('Email sent successfully.')\n",
    "    except Exception as e:\n",
    "        print('Error sending email: %s', e)"
   ]
  },
  {
   "attachments": {},
   "cell_type": "markdown",
   "id": "df9d3ba0",
   "metadata": {},
   "source": [
    "#### The Main Program\n",
    "\n",
    "---\n"
   ]
  },
  {
   "cell_type": "code",
   "execution_count": null,
   "id": "aff7b38d-1649-49dd-a191-747ffb6ce1d9",
   "metadata": {},
   "outputs": [],
   "source": [
    "def main():\n",
    "    \"\"\" This program listens to rover messages and notifies of traffic infringements using mqtt and email\n",
    "    \"\"\"\n",
    "\n",
    "    # Set up the MQTT client\n",
    "    client = mqtt.Client(\"remote\")\n",
    "    client.on_connect = on_connect\n",
    "    client.on_message = on_message\n",
    "\n",
    "    # Connect to the MQTT broker\n",
    "    client.connect(BROKER_HOSTNAME, 1883)\n",
    "    client.loop_start()  # start the loop\n",
    "\n",
    "    # subscribe to a message on a topic\n",
    "    topic = SPEED_TOPIC\n",
    "    client.subscribe(topic)\n",
    "\n",
    "    try:\n",
    "        while True:\n",
    "            print(\"listening...\")\n",
    "            time.sleep(1)\n",
    "            client.publish(LED_BLINK_TOPIC, \"1\")\n",
    "            time.sleep(8)\n",
    "            client.publish(LED_GREEN_TOPIC, \"1\")\n",
    "            time.sleep(8)\n",
    "\n",
    "    except KeyboardInterrupt:\n",
    "        print(\"exiting\")\n",
    "        client.disconnect()\n",
    "        client.loop_stop()\n"
   ]
  },
  {
   "cell_type": "code",
   "execution_count": null,
   "id": "8d982a28",
   "metadata": {},
   "outputs": [],
   "source": [
    "# test the main program\n",
    "main()"
   ]
  }
 ],
 "metadata": {
  "kernelspec": {
   "display_name": "Python 3 (ipykernel)",
   "language": "python",
   "name": "python3"
  },
  "language_info": {
   "codemirror_mode": {
    "name": "ipython",
    "version": 3
   },
   "file_extension": ".py",
   "mimetype": "text/x-python",
   "name": "python",
   "nbconvert_exporter": "python",
   "pygments_lexer": "ipython3",
   "version": "3.10.9"
  }
 },
 "nbformat": 4,
 "nbformat_minor": 5
}
