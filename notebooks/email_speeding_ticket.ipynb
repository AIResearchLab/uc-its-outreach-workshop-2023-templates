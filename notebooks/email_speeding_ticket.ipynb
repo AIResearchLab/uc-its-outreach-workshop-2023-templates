{
 "cells": [
  {
   "attachments": {},
   "cell_type": "markdown",
   "id": "b92a8140-400d-4351-99a7-5c57473a7671",
   "metadata": {},
   "source": [
    "# ![uc-logo](./docs/images/favicon.ico) Automated Speeding Infringement Notice\n",
    "\n",
    "---\n",
    "\n",
    "In real world scenarios, some companies provide and manage fleets of vehicles.\n",
    "\n",
    "Sometimes the company collects metrics for safety and insurance - such as speed monitoring!\n",
    "\n",
    "We can simulate this real world process with our rovers and **IoT**!\n",
    "\n",
    "![happy-rover](./docs/images/RVR_SDK_icons_RVR-Talking.png)\n",
    "\n",
    "## Instructions\n",
    "\n",
    "To test this code example and make monitor the rover's speed, follow these steps:\n",
    "\n",
    "1. Click on the first code cell\n",
    "1. press the play button to run the cell\n",
    "1. Run each cell of code in order until the end\n",
    "1. You can run the last cell many times\n",
    "\n",
    "\n",
    "***You can follow along with the code by reading the comments! Example of comments are in the next cell...***"
   ]
  },
  {
   "cell_type": "code",
   "execution_count": null,
   "id": "0291b6a9",
   "metadata": {},
   "outputs": [],
   "source": [
    "\"\"\" This is a comment \"\"\"\n",
    "\n",
    "''' This is a comment '''\n",
    "\n",
    "# this is a comment\n",
    "# comments are lines in code that are not executed.\n",
    "# They are for the programmer to help document their work."
   ]
  },
  {
   "attachments": {},
   "cell_type": "markdown",
   "id": "6b96864c",
   "metadata": {},
   "source": [
    "### Setting Things Up\n",
    "\n",
    "---\n",
    "\n",
    "To use the IoT messaging service (message queuing telemetry transport - MQTT), and an email service in our program, we need to set some things up.\n",
    "\n",
    "- **Run the following code cells to set everything up.**"
   ]
  },
  {
   "cell_type": "code",
   "execution_count": null,
   "id": "f7ad8730",
   "metadata": {},
   "outputs": [],
   "source": [
    "''' this cell installs some libraries to help with the rest of the code '''\n",
    "\n",
    "# install some important python libraries\n",
    "%pip install -r requirements.txt"
   ]
  },
  {
   "cell_type": "code",
   "execution_count": null,
   "id": "ebc79c34",
   "metadata": {},
   "outputs": [],
   "source": [
    "''' this code cell imports the libraries we installed to the current program '''\n",
    "\n",
    "# import python libraries\n",
    "import smtplib\n",
    "import ssl\n",
    "import paho.mqtt.client as mqtt\n",
    "import time\n",
    "from python.infringement_helper import InfringementHelper"
   ]
  },
  {
   "cell_type": "code",
   "execution_count": null,
   "id": "091f2e82",
   "metadata": {},
   "outputs": [],
   "source": [
    "### DECLARE GLOBAL VARIABLES ###\n",
    "# messaging topics\n",
    "SPEED_TOPIC = \"spheroRVR/speed\"\n",
    "LED_BLINK_TOPIC = \"spheroRVR/led/blink\"\n",
    "LED_GREEN_TOPIC = \"spheroRVR/led/green\"\n",
    "\n",
    "# The speed limit\n",
    "MAXIMUM_SPEED_LIMIT = 0.4"
   ]
  },
  {
   "attachments": {},
   "cell_type": "markdown",
   "id": "33c1078a",
   "metadata": {},
   "source": [
    "### The Rover IP Address\n",
    "\n",
    "---\n",
    "\n",
    "Change the IP Address to match your rover.\n",
    "\n",
    "1. Find the name printed on your rover - for example `robotics6`\n",
    "1. The number of the rover is related to the ip address - the last set of digits is `100 + robot#`\n",
    "1. For example, for `robotics5` the IP Address is `192.168.1.105` (100 + 5)"
   ]
  },
  {
   "cell_type": "code",
   "execution_count": null,
   "id": "b762b16a",
   "metadata": {},
   "outputs": [],
   "source": [
    "### ROVER IP ADDRESS ###\n",
    "###\n",
    "###  CHANGE ME!\n",
    "### \n",
    "###  for example: robotics7 has IP Address \"192.168.1.107\"\n",
    "###\n",
    "BROKER_HOSTNAME = \"192.168.1.107\""
   ]
  },
  {
   "cell_type": "code",
   "execution_count": null,
   "id": "6d7e11b6",
   "metadata": {},
   "outputs": [],
   "source": [
    "# set up minimal messaging service functions\n",
    "def on_connect(client, userdata, flags, rc):\n",
    "    if rc == 0:\n",
    "        print(\"Connected to broker\")\n",
    "\n",
    "        global Connected  # Use global variable\n",
    "        Connected = True  # Signal connection\n",
    "\n",
    "    else:\n",
    "        print(rc)\n",
    "        print(\"Connection failed\")\n"
   ]
  },
  {
   "cell_type": "code",
   "execution_count": null,
   "id": "68828dc4",
   "metadata": {},
   "outputs": [],
   "source": [
    "# the email function\n",
    "def send_email():\n",
    "    # Set up your Gmail account details\n",
    "    sender_email = 'engrehsanamiri@gmail.com'\n",
    "    receiver_email = 'engrehsanamiri@gmail.com'\n",
    "    password = 'jlaezogdlhjnllwu'\n",
    "    subject = 'Test email'\n",
    "    body = 'This is a test email sent from Python.'\n",
    "    msg = f'Subject: {subject}\\n\\n{body}'\n",
    "\n",
    "    # Set up the email message\n",
    "    message = \"\"\"\\\n",
    "    Subject: Test email from Python\n",
    "\n",
    "    This is a test email sent from Python.\"\"\"\n",
    "\n",
    "    # Create a secure SSL context\n",
    "    context = ssl.create_default_context()\n",
    "\n",
    "    try:\n",
    "        # Log in to your Gmail account and create a secure connection\n",
    "        with smtplib.SMTP_SSL('smtp.gmail.com', 465, context=context) as server:\n",
    "            server.login(sender_email, password)\n",
    "\n",
    "            # Send the email message\n",
    "            server.sendmail(sender_email, receiver_email, msg)\n",
    "\n",
    "        print('Email sent successfully.')\n",
    "    except Exception as e:\n",
    "        print('Error sending email: %s', e)"
   ]
  },
  {
   "cell_type": "code",
   "execution_count": null,
   "id": "04e13e9a",
   "metadata": {},
   "outputs": [],
   "source": [
    "# create a tracking object to help track infringement events\n",
    "infringement_tracker = InfringementHelper(MAXIMUM_SPEED_LIMIT)"
   ]
  },
  {
   "attachments": {},
   "cell_type": "markdown",
   "id": "96bbd400",
   "metadata": {},
   "source": [
    "### The Body of the Email\n",
    "\n",
    "---\n",
    "\n",
    "This is the body of the email.\n",
    "\n",
    "It is a `string` of text that will be sent in an infringement notice.\n",
    "\n",
    "- **You can edit the text to say something different!**"
   ]
  },
  {
   "cell_type": "code",
   "execution_count": null,
   "id": "10c313f6",
   "metadata": {},
   "outputs": [],
   "source": [
    "# the email body string\n",
    "\n",
    "email_body = \"\""
   ]
  },
  {
   "attachments": {},
   "cell_type": "markdown",
   "id": "3b45499d",
   "metadata": {},
   "source": [
    "#### The message *'Callback'* function\n",
    "\n",
    "---\n",
    "\n",
    "This function is run when a message is received from the rover. This function:\n",
    "\n",
    "1. reads the message\n",
    "1. collects the speed data\n",
    "1. tracks any speeding events\n",
    "1. sends speeding infringement notices via email "
   ]
  },
  {
   "cell_type": "code",
   "execution_count": null,
   "id": "94dec7f9",
   "metadata": {},
   "outputs": [],
   "source": [
    "# this function helps us listen to messages from the rover\n",
    "# when we get a message about speed, we can check if it is too high\n",
    "def on_message(client, userdata, message):\n",
    "    speed = float(message.payload)\n",
    "\n",
    "    if speed > 0.0:\n",
    "        print(\"speed message received! -> \" + str(speed))\n",
    "\n",
    "\n",
    "    # check and track speeding events\n",
    "    infringement_tracker.track_infringement(speed)\n",
    "    \n",
    "    if infringement_tracker.speeding_event_finished():\n",
    "        notice_text = email_body\n",
    "        infringement_tracker.send_infringement_notice(notice_text)"
   ]
  },
  {
   "attachments": {},
   "cell_type": "markdown",
   "id": "df9d3ba0",
   "metadata": {},
   "source": [
    "### The Main Function\n",
    "\n",
    "---\n",
    "\n",
    "This function is the *main* function. This function:\n",
    "\n",
    "1. connects to the IoT messaging service\n",
    "1. listens for messages about speed from the rover\n",
    "1. sets up an automated response to speeding events - *( the callback function )*\n",
    "1. if the rover's speed is too high, then an infringement will be sent by email"
   ]
  },
  {
   "cell_type": "code",
   "execution_count": null,
   "id": "aff7b38d-1649-49dd-a191-747ffb6ce1d9",
   "metadata": {},
   "outputs": [],
   "source": [
    "def main():\n",
    "    \"\"\" This function listens to rover messages and notifies of traffic infringements using mqtt and email\n",
    "    \"\"\"\n",
    "\n",
    "    # Set up the MQTT client\n",
    "    client = mqtt.Client(\"remote\")\n",
    "    client.on_connect = on_connect\n",
    "    client.on_message = on_message\n",
    "    \n",
    "    # reset infringement tracker\n",
    "    infringement_tracker.reset()\n",
    "\n",
    "    # Connect to the MQTT broker\n",
    "    client.connect(BROKER_HOSTNAME, 1883)\n",
    "    client.loop_start()  # start the loop\n",
    "\n",
    "    # subscribe to a message on a topic\n",
    "    client.subscribe(SPEED_TOPIC)\n",
    "\n",
    "    try:\n",
    "        start_time = time.time()\n",
    "        print(\"speeding detection program started...\")\n",
    "        while True:\n",
    "            print(\"speeding detection program listening...\")\n",
    "            time.sleep(5)\n",
    "\n",
    "            # exit after a little while (30 seconds or 1/2 minute)\n",
    "            if time.time() - start_time > 30:\n",
    "                print(\"speeding detection program has run for 30 seconds - exiting\")\n",
    "                break\n",
    "\n",
    "    except KeyboardInterrupt:\n",
    "        print(\"code interrupted\")\n",
    "\n",
    "    finally:\n",
    "        print(\"exiting\")\n",
    "        client.disconnect()\n",
    "        client.loop_stop()\n"
   ]
  },
  {
   "attachments": {},
   "cell_type": "markdown",
   "id": "c762fa67",
   "metadata": {},
   "source": [
    "### The Main Program\n",
    "\n",
    "---\n",
    "\n",
    "This code cell runs the main function. \n",
    "\n",
    "**You can run this cell many times**"
   ]
  },
  {
   "cell_type": "code",
   "execution_count": null,
   "id": "8d982a28",
   "metadata": {},
   "outputs": [],
   "source": [
    "# test the main function and run the program\n",
    "main()"
   ]
  },
  {
   "cell_type": "code",
   "execution_count": null,
   "id": "18ed31c8",
   "metadata": {},
   "outputs": [],
   "source": [
    "\"\"\" this cell is the end of the notebook, you do not have to run this cell \"\"\""
   ]
  }
 ],
 "metadata": {
  "kernelspec": {
   "display_name": "Python 3",
   "language": "python",
   "name": "python3"
  },
  "language_info": {
   "codemirror_mode": {
    "name": "ipython",
    "version": 3
   },
   "file_extension": ".py",
   "mimetype": "text/x-python",
   "name": "python",
   "nbconvert_exporter": "python",
   "pygments_lexer": "ipython3",
   "version": "3.8.10"
  },
  "vscode": {
   "interpreter": {
    "hash": "916dbcbb3f70747c44a77c7bcd40155683ae19c65e1c03b4aa3499c5328201f1"
   }
  }
 },
 "nbformat": 4,
 "nbformat_minor": 5
}
